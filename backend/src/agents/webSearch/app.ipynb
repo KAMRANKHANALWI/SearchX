{
 "cells": [
  {
   "cell_type": "code",
   "execution_count": 1,
   "id": "473236bc",
   "metadata": {},
   "outputs": [
    {
     "data": {
      "text/plain": [
       "True"
      ]
     },
     "execution_count": 1,
     "metadata": {},
     "output_type": "execute_result"
    }
   ],
   "source": [
    "from langchain_google_genai import ChatGoogleGenerativeAI\n",
    "from dotenv import load_dotenv\n",
    "from typing import Annotated\n",
    "from langgraph.graph import add_messages, StateGraph, END\n",
    "from langchain_core.messages import HumanMessage, AIMessage\n",
    "from pydantic import BaseModel\n",
    "from langgraph.graph import StateGraph, END\n",
    "from enum import Enum\n",
    "from langchain_tavily import TavilySearch\n",
    "from langgraph.prebuilt import ToolNode\n",
    "from langgraph.checkpoint.memory import MemorySaver\n",
    "\n",
    "load_dotenv()"
   ]
  },
  {
   "cell_type": "code",
   "execution_count": null,
   "id": "71ffc256",
   "metadata": {},
   "outputs": [
    {
     "name": "stdout",
     "output_type": "stream",
     "text": [
      "I am a large language model, trained by Google.\n"
     ]
    }
   ],
   "source": [
    "# Check the 'llm' working with and without tools\n",
    "llm = ChatGoogleGenerativeAI(model=\"gemini-2.0-flash\", model_kwargs={\"streaming\": True})\n",
    "\n",
    "webSearch = TavilySearch(max_results=4)\n",
    "tools = [webSearch]\n",
    "llm_with_tools = llm.bind_tools(tools)\n",
    "\n",
    "\n",
    "def without_tools():\n",
    "    response = llm_with_tools.invoke(\"Hello, Who are you?\")\n",
    "    print(\"Without Tools Response:\\n\")\n",
    "    print(response.content)\n",
    "\n",
    "\n",
    "def with_tools():\n",
    "    response = llm_with_tools.invoke(\"Current Stock price of Google ?\")\n",
    "    print(\"With Tools Response: \\n\")\n",
    "    # The response is an AIMessage object, not a dict.\n",
    "    # To access tool_calls, use response.tool_calls, not response[\"tool_calls\"]\n",
    "    print(\n",
    "        \"Tool Called : \"\n",
    "        + response.tool_calls[0][\"name\"]\n",
    "        + \"\\nQuery : \"\n",
    "        + response.tool_calls[0][\"args\"][\"query\"]\n",
    "    )\n",
    "\n",
    "\n",
    "def check():\n",
    "    # without_tools()\n",
    "    with_tools()\n",
    "\n",
    "\n",
    "check()"
   ]
  },
  {
   "cell_type": "code",
   "execution_count": 4,
   "id": "185f8f71",
   "metadata": {},
   "outputs": [],
   "source": [
    "from langchain_core.messages import HumanMessage, AIMessageChunk, AIMessage\n",
    "\n",
    "# Creating the Graph\n",
    "memory = MemorySaver()\n",
    "\n",
    "\n",
    "class ChatState(BaseModel):\n",
    "    messages: Annotated[list, add_messages]\n",
    "\n",
    "\n",
    "class Node(Enum):\n",
    "    CHATBOT_NODE = \"chatbot_node\"\n",
    "    TOOLS_NODE = \"tools_node\"\n",
    "\n",
    "\n",
    "async def chatbot_node(state: ChatState) -> ChatState:\n",
    "    chat_history = state.messages\n",
    "    ai_response = await llm_with_tools.ainvoke(chat_history)\n",
    "    # Return final AIMessage as response\n",
    "    return {\"messages\": [ai_response]}\n",
    "\n",
    "\n",
    "# This is a tool router that checks if the last message has tool calls.\n",
    "async def tools_router(state: ChatState) -> str:\n",
    "    last_message = state.messages[-1]\n",
    "\n",
    "    # Checks if an object has a specific attribute (like a variable or method). It returns True or False.\n",
    "    if hasattr(last_message, \"tool_calls\") and len(last_message.tool_calls) > 0:\n",
    "        return Node.TOOLS_NODE.value\n",
    "    else:\n",
    "        return END\n",
    "\n",
    "\n",
    "\"\"\"\n",
    "! Always Remember - ToolNode only search for 'messages' key in the state.\n",
    "* If you want to Explicitly mentioned some other name. Mention 'messages_key' parameter in ToolNode.\n",
    "* Dont' change it to traditional code bcs gemini respond in different format than openai.\n",
    "\"\"\"\n",
    "tool_node = ToolNode(name=Node.TOOLS_NODE.value, tools=tools)\n",
    "\n",
    "\n",
    "graph = StateGraph(ChatState)\n",
    "\n",
    "graph.add_node(Node.CHATBOT_NODE.value, chatbot_node)\n",
    "graph.set_entry_point(Node.CHATBOT_NODE.value)\n",
    "graph.add_node(Node.TOOLS_NODE.value, tool_node)\n",
    "\n",
    "graph.add_conditional_edges(\n",
    "    Node.CHATBOT_NODE.value,\n",
    "    tools_router,\n",
    "    {\n",
    "        Node.TOOLS_NODE.value: Node.TOOLS_NODE.value,\n",
    "        END: END,\n",
    "    },\n",
    ")\n",
    "graph.add_edge(Node.TOOLS_NODE.value, Node.CHATBOT_NODE.value)\n",
    "\n",
    "# App = webSearchAgent\n",
    "webSearchAgent = graph.compile(checkpointer=memory)"
   ]
  },
  {
   "cell_type": "code",
   "execution_count": 5,
   "id": "88dfdc26",
   "metadata": {},
   "outputs": [
    {
     "data": {
      "image/png": "[encoded data removed]",
      "text/plain": [
       "<IPython.core.display.Image object>"
      ]
     },
     "metadata": {},
     "output_type": "display_data"
    }
   ],
   "source": [
    "# Check the Graph Structure\n",
    "from IPython.display import Image, display\n",
    "from langchain_core.runnables.graph import MermaidDrawMethod\n",
    "\n",
    "display(\n",
    "    Image(\n",
    "        webSearchAgent.get_graph().draw_mermaid_png(draw_method=MermaidDrawMethod.API)\n",
    "    )\n",
    ")"
   ]
  },
  {
   "cell_type": "code",
   "execution_count": 6,
   "id": "1733521c",
   "metadata": {},
   "outputs": [
    {
     "name": "stdout",
     "output_type": "stream",
     "text": [
      "Exiting the chat.\n"
     ]
    }
   ],
   "source": [
    "# Running the Agent Response\n",
    "# Part 1 : Generate a new checkpoint ID\n",
    "import uuid\n",
    "\n",
    "config = {\n",
    "    \"configurable\": {\n",
    "        \"thread_id\": str(uuid.uuid4()),  # Unique identifier for the conversation\n",
    "    }\n",
    "}\n",
    "\n",
    "while True:\n",
    "    user_input = input(\"You: \")\n",
    "    if user_input.lower() in [\"exit\", \"quit\"]:\n",
    "        print(\"Exiting the chat.\")\n",
    "        break\n",
    "\n",
    "    response = await webSearchAgent.ainvoke(\n",
    "        {\"messages\": [HumanMessage(content=user_input)]}, config=config\n",
    "    )\n",
    "    print(\"Me:\", user_input)\n",
    "    print(\"AI:\", response[\"messages\"][-1].content)"
   ]
  },
  {
   "cell_type": "code",
   "execution_count": null,
   "id": "727a7313",
   "metadata": {},
   "outputs": [
    {
     "name": "stdout",
     "output_type": "stream",
     "text": [
      "{'event': 'on_chain_stream', 'run_id': 'fcaf0e30-143a-4be8-9b95-b97d8fec84f3', 'name': 'chatbot_node', 'tags': ['graph:step:1'], 'metadata': {'thread_id': '155b1555-216c-4b91-8ec2-03177dae17b9', 'langgraph_step': 1, 'langgraph_node': 'chatbot_node', 'langgraph_triggers': ('branch:to:chatbot_node',), 'langgraph_path': ('__pregel_pull', 'chatbot_node'), 'langgraph_checkpoint_ns': 'chatbot_node:5721294a-7077-f34a-8ddd-d4f74b297160'}, 'data': {'chunk': {'messages': [AIMessage(content='', additional_kwargs={'function_call': {'name': 'tavily_search', 'arguments': '{\"topic\": \"finance\", \"query\": \"nvidia stock price\"}'}}, response_metadata={'finish_reason': 'STOP', 'model_name': 'gemini-2.0-flash', 'safety_ratings': []}, id='run-b209455c-85f1-4aaa-bcea-01ad2575ebd4', tool_calls=[{'name': 'tavily_search', 'args': {'topic': 'finance', 'query': 'nvidia stock price'}, 'id': 'b1cbc8b3-4a6c-40b0-8a84-0bdd48992a72', 'type': 'tool_call'}], usage_metadata={'input_tokens': 504, 'output_tokens': 10, 'total_tokens': 514, 'input_token_details': {'cache_read': 0}})]}}, 'parent_ids': ['7df47c9a-65a2-45d6-a924-9f8cd0d2ddfa']}\n",
      "{'messages': [AIMessage(content='', additional_kwargs={'function_call': {'name': 'tavily_search', 'arguments': '{\"topic\": \"finance\", \"query\": \"nvidia stock price\"}'}}, response_metadata={'finish_reason': 'STOP', 'model_name': 'gemini-2.0-flash', 'safety_ratings': []}, id='run-b209455c-85f1-4aaa-bcea-01ad2575ebd4', tool_calls=[{'name': 'tavily_search', 'args': {'topic': 'finance', 'query': 'nvidia stock price'}, 'id': 'b1cbc8b3-4a6c-40b0-8a84-0bdd48992a72', 'type': 'tool_call'}], usage_metadata={'input_tokens': 504, 'output_tokens': 10, 'total_tokens': 514, 'input_token_details': {'cache_read': 0}})]}\n",
      "{'event': 'on_chain_stream', 'run_id': '7df47c9a-65a2-45d6-a924-9f8cd0d2ddfa', 'name': 'LangGraph', 'tags': [], 'metadata': {'thread_id': '155b1555-216c-4b91-8ec2-03177dae17b9'}, 'data': {'chunk': {'chatbot_node': {'messages': [AIMessage(content='', additional_kwargs={'function_call': {'name': 'tavily_search', 'arguments': '{\"topic\": \"finance\", \"query\": \"nvidia stock price\"}'}}, response_metadata={'finish_reason': 'STOP', 'model_name': 'gemini-2.0-flash', 'safety_ratings': []}, id='run-b209455c-85f1-4aaa-bcea-01ad2575ebd4', tool_calls=[{'name': 'tavily_search', 'args': {'topic': 'finance', 'query': 'nvidia stock price'}, 'id': 'b1cbc8b3-4a6c-40b0-8a84-0bdd48992a72', 'type': 'tool_call'}], usage_metadata={'input_tokens': 504, 'output_tokens': 10, 'total_tokens': 514, 'input_token_details': {'cache_read': 0}})]}}}, 'parent_ids': []}\n",
      "{'chatbot_node': {'messages': [AIMessage(content='', additional_kwargs={'function_call': {'name': 'tavily_search', 'arguments': '{\"topic\": \"finance\", \"query\": \"nvidia stock price\"}'}}, response_metadata={'finish_reason': 'STOP', 'model_name': 'gemini-2.0-flash', 'safety_ratings': []}, id='run-b209455c-85f1-4aaa-bcea-01ad2575ebd4', tool_calls=[{'name': 'tavily_search', 'args': {'topic': 'finance', 'query': 'nvidia stock price'}, 'id': 'b1cbc8b3-4a6c-40b0-8a84-0bdd48992a72', 'type': 'tool_call'}], usage_metadata={'input_tokens': 504, 'output_tokens': 10, 'total_tokens': 514, 'input_token_details': {'cache_read': 0}})]}}\n",
      "{'event': 'on_chain_stream', 'run_id': 'e30484bf-7847-4ace-abd0-6faf74486c64', 'name': 'tools_node', 'tags': ['graph:step:2'], 'metadata': {'thread_id': '155b1555-216c-4b91-8ec2-03177dae17b9', 'langgraph_step': 2, 'langgraph_node': 'tools_node', 'langgraph_triggers': ('branch:to:tools_node',), 'langgraph_path': ('__pregel_pull', 'tools_node'), 'langgraph_checkpoint_ns': 'tools_node:a5db3592-91f2-ceca-1e2f-34b4ef33d680'}, 'data': {'chunk': {'messages': [ToolMessage(content='{\"query\": \"nvidia stock price\", \"follow_up_questions\": null, \"answer\": null, \"images\": [], \"results\": [{\"title\": \"Financial Analysis for NVDA\", \"url\": \"https://finance.yahoo.com/quote/NVDA/\", \"content\": \"Stock: NVDA\\\\nFinancial Analysis:\\\\nLatest Open Price: 171.14 Latest Close Price: 170.70 Highest Close Price: 170.70 Lowest Close Price: 40.30 Average Close Price (2 years): 98.87 Standard Deviation of Close Price: 37.21 Volume Traded (2 years): 183131969166 Total Return (2 years): 267.63% Annualized Return (2 years): 91.74% CAGR (2 years): 91.74% Sharpe Ratio (2 years): 2.47 Max Drawdown (2 years): 0.54% \", \"score\": 0.98703, \"raw_content\": null}, {\"url\": \"https://finance.yahoo.com/quote/NVDA80.BK/history/\", \"title\": \"NVIDIA Corporation (NVDA80.BK) Stock Historical Prices & ...\", \"content\": \"NVIDIA Corporation (NVDA80.BK) ; Jul 15, 2025, 28.00, 28.25 ; Jul 14, 2025, 27.00, 27.00 ; Jul 11, 2025, 26.75, 26.75 ; Jul 9, 2025, 26.00, 26.25\", \"score\": 0.89997756, \"raw_content\": null}, {\"url\": \"https://finance.yahoo.com/quote/NVDA/history/\", \"title\": \"NVIDIA Corporation (NVDA) Stock Historical Prices & Data\", \"content\": \"Breaking News • 2 days ago Stocks fall to start the week as Trump amps up tariff threats; Tesla sinks over 7% News • 2 days ago Trump tariff deadline approaches with stocks at record highs: What to know this week News • 2 days ago More than 200 S&P 500 companies scrubbed \\'diversity\\' and \\'equity\\' from annual reports in 2025. News • 3 days ago Trump\\'s July 9 tariff deadline approaches with stocks at record highs: What to know this week Breaking News • 6 days ago Dow, S&P 500, Nasdaq climb after better-than-expected jobs report Breaking News • 6 days ago The S&P 500 and Nasdaq leapt to records after Trump\\'s trade deal with Vietnam, with Thursday\\'s key jobs report looming\", \"score\": 0.6186197, \"raw_content\": null}, {\"url\": \"https://finance.yahoo.com/quote/NVDG.F/\", \"title\": \"NVIDIA Corporation (NVDG.F) Stock Price, News, Quote & ...\", \"content\": \"Find the latest NVIDIA Corporation (NVDG.F) stock quote, history, news and other vital information to help you with your stock trading and investing.\", \"score\": 0.5689194, \"raw_content\": null}], \"response_time\": 1.76}', name='tavily_search', tool_call_id='b1cbc8b3-4a6c-40b0-8a84-0bdd48992a72')]}}, 'parent_ids': ['7df47c9a-65a2-45d6-a924-9f8cd0d2ddfa']}\n",
      "{'messages': [ToolMessage(content='{\"query\": \"nvidia stock price\", \"follow_up_questions\": null, \"answer\": null, \"images\": [], \"results\": [{\"title\": \"Financial Analysis for NVDA\", \"url\": \"https://finance.yahoo.com/quote/NVDA/\", \"content\": \"Stock: NVDA\\\\nFinancial Analysis:\\\\nLatest Open Price: 171.14 Latest Close Price: 170.70 Highest Close Price: 170.70 Lowest Close Price: 40.30 Average Close Price (2 years): 98.87 Standard Deviation of Close Price: 37.21 Volume Traded (2 years): 183131969166 Total Return (2 years): 267.63% Annualized Return (2 years): 91.74% CAGR (2 years): 91.74% Sharpe Ratio (2 years): 2.47 Max Drawdown (2 years): 0.54% \", \"score\": 0.98703, \"raw_content\": null}, {\"url\": \"https://finance.yahoo.com/quote/NVDA80.BK/history/\", \"title\": \"NVIDIA Corporation (NVDA80.BK) Stock Historical Prices & ...\", \"content\": \"NVIDIA Corporation (NVDA80.BK) ; Jul 15, 2025, 28.00, 28.25 ; Jul 14, 2025, 27.00, 27.00 ; Jul 11, 2025, 26.75, 26.75 ; Jul 9, 2025, 26.00, 26.25\", \"score\": 0.89997756, \"raw_content\": null}, {\"url\": \"https://finance.yahoo.com/quote/NVDA/history/\", \"title\": \"NVIDIA Corporation (NVDA) Stock Historical Prices & Data\", \"content\": \"Breaking News • 2 days ago Stocks fall to start the week as Trump amps up tariff threats; Tesla sinks over 7% News • 2 days ago Trump tariff deadline approaches with stocks at record highs: What to know this week News • 2 days ago More than 200 S&P 500 companies scrubbed \\'diversity\\' and \\'equity\\' from annual reports in 2025. News • 3 days ago Trump\\'s July 9 tariff deadline approaches with stocks at record highs: What to know this week Breaking News • 6 days ago Dow, S&P 500, Nasdaq climb after better-than-expected jobs report Breaking News • 6 days ago The S&P 500 and Nasdaq leapt to records after Trump\\'s trade deal with Vietnam, with Thursday\\'s key jobs report looming\", \"score\": 0.6186197, \"raw_content\": null}, {\"url\": \"https://finance.yahoo.com/quote/NVDG.F/\", \"title\": \"NVIDIA Corporation (NVDG.F) Stock Price, News, Quote & ...\", \"content\": \"Find the latest NVIDIA Corporation (NVDG.F) stock quote, history, news and other vital information to help you with your stock trading and investing.\", \"score\": 0.5689194, \"raw_content\": null}], \"response_time\": 1.76}', name='tavily_search', tool_call_id='b1cbc8b3-4a6c-40b0-8a84-0bdd48992a72')]}\n",
      "{'event': 'on_chain_stream', 'run_id': '7df47c9a-65a2-45d6-a924-9f8cd0d2ddfa', 'name': 'LangGraph', 'tags': [], 'metadata': {'thread_id': '155b1555-216c-4b91-8ec2-03177dae17b9'}, 'data': {'chunk': {'tools_node': {'messages': [ToolMessage(content='{\"query\": \"nvidia stock price\", \"follow_up_questions\": null, \"answer\": null, \"images\": [], \"results\": [{\"title\": \"Financial Analysis for NVDA\", \"url\": \"https://finance.yahoo.com/quote/NVDA/\", \"content\": \"Stock: NVDA\\\\nFinancial Analysis:\\\\nLatest Open Price: 171.14 Latest Close Price: 170.70 Highest Close Price: 170.70 Lowest Close Price: 40.30 Average Close Price (2 years): 98.87 Standard Deviation of Close Price: 37.21 Volume Traded (2 years): 183131969166 Total Return (2 years): 267.63% Annualized Return (2 years): 91.74% CAGR (2 years): 91.74% Sharpe Ratio (2 years): 2.47 Max Drawdown (2 years): 0.54% \", \"score\": 0.98703, \"raw_content\": null}, {\"url\": \"https://finance.yahoo.com/quote/NVDA80.BK/history/\", \"title\": \"NVIDIA Corporation (NVDA80.BK) Stock Historical Prices & ...\", \"content\": \"NVIDIA Corporation (NVDA80.BK) ; Jul 15, 2025, 28.00, 28.25 ; Jul 14, 2025, 27.00, 27.00 ; Jul 11, 2025, 26.75, 26.75 ; Jul 9, 2025, 26.00, 26.25\", \"score\": 0.89997756, \"raw_content\": null}, {\"url\": \"https://finance.yahoo.com/quote/NVDA/history/\", \"title\": \"NVIDIA Corporation (NVDA) Stock Historical Prices & Data\", \"content\": \"Breaking News • 2 days ago Stocks fall to start the week as Trump amps up tariff threats; Tesla sinks over 7% News • 2 days ago Trump tariff deadline approaches with stocks at record highs: What to know this week News • 2 days ago More than 200 S&P 500 companies scrubbed \\'diversity\\' and \\'equity\\' from annual reports in 2025. News • 3 days ago Trump\\'s July 9 tariff deadline approaches with stocks at record highs: What to know this week Breaking News • 6 days ago Dow, S&P 500, Nasdaq climb after better-than-expected jobs report Breaking News • 6 days ago The S&P 500 and Nasdaq leapt to records after Trump\\'s trade deal with Vietnam, with Thursday\\'s key jobs report looming\", \"score\": 0.6186197, \"raw_content\": null}, {\"url\": \"https://finance.yahoo.com/quote/NVDG.F/\", \"title\": \"NVIDIA Corporation (NVDG.F) Stock Price, News, Quote & ...\", \"content\": \"Find the latest NVIDIA Corporation (NVDG.F) stock quote, history, news and other vital information to help you with your stock trading and investing.\", \"score\": 0.5689194, \"raw_content\": null}], \"response_time\": 1.76}', name='tavily_search', id='ae3259f6-e73f-416d-939a-bac706596f13', tool_call_id='b1cbc8b3-4a6c-40b0-8a84-0bdd48992a72')]}}}, 'parent_ids': []}\n",
      "{'tools_node': {'messages': [ToolMessage(content='{\"query\": \"nvidia stock price\", \"follow_up_questions\": null, \"answer\": null, \"images\": [], \"results\": [{\"title\": \"Financial Analysis for NVDA\", \"url\": \"https://finance.yahoo.com/quote/NVDA/\", \"content\": \"Stock: NVDA\\\\nFinancial Analysis:\\\\nLatest Open Price: 171.14 Latest Close Price: 170.70 Highest Close Price: 170.70 Lowest Close Price: 40.30 Average Close Price (2 years): 98.87 Standard Deviation of Close Price: 37.21 Volume Traded (2 years): 183131969166 Total Return (2 years): 267.63% Annualized Return (2 years): 91.74% CAGR (2 years): 91.74% Sharpe Ratio (2 years): 2.47 Max Drawdown (2 years): 0.54% \", \"score\": 0.98703, \"raw_content\": null}, {\"url\": \"https://finance.yahoo.com/quote/NVDA80.BK/history/\", \"title\": \"NVIDIA Corporation (NVDA80.BK) Stock Historical Prices & ...\", \"content\": \"NVIDIA Corporation (NVDA80.BK) ; Jul 15, 2025, 28.00, 28.25 ; Jul 14, 2025, 27.00, 27.00 ; Jul 11, 2025, 26.75, 26.75 ; Jul 9, 2025, 26.00, 26.25\", \"score\": 0.89997756, \"raw_content\": null}, {\"url\": \"https://finance.yahoo.com/quote/NVDA/history/\", \"title\": \"NVIDIA Corporation (NVDA) Stock Historical Prices & Data\", \"content\": \"Breaking News • 2 days ago Stocks fall to start the week as Trump amps up tariff threats; Tesla sinks over 7% News • 2 days ago Trump tariff deadline approaches with stocks at record highs: What to know this week News • 2 days ago More than 200 S&P 500 companies scrubbed \\'diversity\\' and \\'equity\\' from annual reports in 2025. News • 3 days ago Trump\\'s July 9 tariff deadline approaches with stocks at record highs: What to know this week Breaking News • 6 days ago Dow, S&P 500, Nasdaq climb after better-than-expected jobs report Breaking News • 6 days ago The S&P 500 and Nasdaq leapt to records after Trump\\'s trade deal with Vietnam, with Thursday\\'s key jobs report looming\", \"score\": 0.6186197, \"raw_content\": null}, {\"url\": \"https://finance.yahoo.com/quote/NVDG.F/\", \"title\": \"NVIDIA Corporation (NVDG.F) Stock Price, News, Quote & ...\", \"content\": \"Find the latest NVIDIA Corporation (NVDG.F) stock quote, history, news and other vital information to help you with your stock trading and investing.\", \"score\": 0.5689194, \"raw_content\": null}], \"response_time\": 1.76}', name='tavily_search', id='ae3259f6-e73f-416d-939a-bac706596f13', tool_call_id='b1cbc8b3-4a6c-40b0-8a84-0bdd48992a72')]}}\n",
      "{'event': 'on_chain_stream', 'run_id': 'eaf20476-4089-42ef-8b96-106b4e62fda5', 'name': 'chatbot_node', 'tags': ['graph:step:3'], 'metadata': {'thread_id': '155b1555-216c-4b91-8ec2-03177dae17b9', 'langgraph_step': 3, 'langgraph_node': 'chatbot_node', 'langgraph_triggers': ('branch:to:chatbot_node',), 'langgraph_path': ('__pregel_pull', 'chatbot_node'), 'langgraph_checkpoint_ns': 'chatbot_node:6f9df490-acef-7fcc-3d03-9abca326ae15'}, 'data': {'chunk': {'messages': [AIMessage(content='The latest closing price for NVIDIA (NVDA) is $170.70.', additional_kwargs={}, response_metadata={'safety_ratings': [], 'finish_reason': 'STOP', 'model_name': 'gemini-2.0-flash'}, id='run-805211d4-5a21-4366-af33-92de842cc0c1', usage_metadata={'input_tokens': 1162, 'output_tokens': 19, 'total_tokens': 1181, 'input_token_details': {'cache_read': 0}})]}}, 'parent_ids': ['7df47c9a-65a2-45d6-a924-9f8cd0d2ddfa']}\n",
      "{'messages': [AIMessage(content='The latest closing price for NVIDIA (NVDA) is $170.70.', additional_kwargs={}, response_metadata={'safety_ratings': [], 'finish_reason': 'STOP', 'model_name': 'gemini-2.0-flash'}, id='run-805211d4-5a21-4366-af33-92de842cc0c1', usage_metadata={'input_tokens': 1162, 'output_tokens': 19, 'total_tokens': 1181, 'input_token_details': {'cache_read': 0}})]}\n",
      "{'event': 'on_chain_stream', 'run_id': '7df47c9a-65a2-45d6-a924-9f8cd0d2ddfa', 'name': 'LangGraph', 'tags': [], 'metadata': {'thread_id': '155b1555-216c-4b91-8ec2-03177dae17b9'}, 'data': {'chunk': {'chatbot_node': {'messages': [AIMessage(content='The latest closing price for NVIDIA (NVDA) is $170.70.', additional_kwargs={}, response_metadata={'safety_ratings': [], 'finish_reason': 'STOP', 'model_name': 'gemini-2.0-flash'}, id='run-805211d4-5a21-4366-af33-92de842cc0c1', usage_metadata={'input_tokens': 1162, 'output_tokens': 19, 'total_tokens': 1181, 'input_token_details': {'cache_read': 0}})]}}}, 'parent_ids': []}\n",
      "{'chatbot_node': {'messages': [AIMessage(content='The latest closing price for NVIDIA (NVDA) is $170.70.', additional_kwargs={}, response_metadata={'safety_ratings': [], 'finish_reason': 'STOP', 'model_name': 'gemini-2.0-flash'}, id='run-805211d4-5a21-4366-af33-92de842cc0c1', usage_metadata={'input_tokens': 1162, 'output_tokens': 19, 'total_tokens': 1181, 'input_token_details': {'cache_read': 0}})]}}\n",
      "Exiting the chat.\n"
     ]
    }
   ],
   "source": [
    "\"\"\"Note : Every Response is stored in helper-json \"\"\"\n",
    "# TODO: Confirm json of chat_model_stream and chat_model_end\n",
    "from langchain_core.messages import HumanMessage\n",
    "\n",
    "while True:\n",
    "    user_input = input(\"You: \")\n",
    "    if user_input.lower() in [\"exit\", \"quit\"]:\n",
    "        print(\"Exiting the chat.\")\n",
    "        break\n",
    "\n",
    "    print(\"\", end=\"\", flush=True)\n",
    "\n",
    "    # Stream events from LangGraph\n",
    "    \"\"\" ===> Fundamental Streaming Response\"\"\"\n",
    "    # async for event in webSearchAgent.astream_events(\n",
    "    #     {\"messages\": [HumanMessage(content=user_input)]},\n",
    "    #     version=\"v2\",\n",
    "    #     config=config,\n",
    "    # ):\n",
    "    #     print(event)\n",
    "\n",
    "    \"\"\" ====> Getting the content in streaming response - on_chain_stream\"\"\"\n",
    "    async for event in webSearchAgent.astream_events(\n",
    "        {\"messages\": [HumanMessage(content=user_input)]},\n",
    "        version=\"v2\",\n",
    "        config=config,\n",
    "    ):\n",
    "        event_type = event.get(\"event\")\n",
    "        if event_type == \"on_chain_stream\":\n",
    "            print(event)\n",
    "            mssg = event[\"data\"][\"chunk\"]\n",
    "            print(mssg)\n",
    "    \n",
    "    \"\"\" =====> If chat model do some tools calls - on_chat_model_end\"\"\"\n",
    "    # async for event in webSearchAgent.astream_events(\n",
    "    #     {\"messages\": [HumanMessage(content=user_input)]},\n",
    "    #     version=\"v2\",\n",
    "    #     config=config,\n",
    "    # ):\n",
    "    #     # print(event)\n",
    "    #     event_type = event.get(\"event\")\n",
    "    #     if event_type == \"on_chat_model_end\":\n",
    "    #         print(event)\n",
    "    \n",
    "    \"\"\" =====> Tavily Search Citations - on_tool_end\"\"\"\n",
    "    # async for event in webSearchAgent.astream_events(\n",
    "    #     {\"messages\": [HumanMessage(content=user_input)]},\n",
    "    #     version=\"v2\",\n",
    "    #     config=config,\n",
    "    # ):\n",
    "    #     event_type = event.get(\"event\")\n",
    "    #     if event_type == \"on_tool_end\":\n",
    "    #         print(event)\n",
    "\n",
    "    "
   ]
  }
 ],
 "metadata": {
  "kernelspec": {
   "display_name": "searchx-final-backend (3.11.13)",
   "language": "python",
   "name": "python3"
  },
  "language_info": {
   "codemirror_mode": {
    "name": "ipython",
    "version": 3
   },
   "file_extension": ".py",
   "mimetype": "text/x-python",
   "name": "python",
   "nbconvert_exporter": "python",
   "pygments_lexer": "ipython3",
   "version": "3.11.13"
  }
 },
 "nbformat": 4,
 "nbformat_minor": 5
}
